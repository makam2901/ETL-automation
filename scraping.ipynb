{
 "cells": [
  {
   "cell_type": "markdown",
   "metadata": {},
   "source": [
    "<div class=\"alert alert-block alert-warning\"  style=\"background-color: #be5bf0; color: black;\">  \n",
    "  <h1>About</h1>\n",
    "  This is a notebook for scraping data from the Social Determinants of Health Database.\n",
    "</div>"
   ]
  },
  {
   "cell_type": "markdown",
   "metadata": {},
   "source": [
    "$\\underline{\\text{Link to database}}$: [HERE](https://www.ahrq.gov/sdoh/data-analytics/sdoh-data.html#download)\n",
    "\n",
    "\n",
    "$\\underline{\\text{What this notebook does}}$:\n",
    "\n",
    "For the `year` that you import, this notebok will:\n",
    "1. Create a folder in this current directory called `year`\n",
    "2. Download 3 files for that year:\n",
    "    * Codebook Files\n",
    "    * County Data\n",
    "    * Census Tract Data \n",
    "\n",
    "$\\underline{\\text{All you need to do}}$: Change `year` to the year you want to scrape data\n",
    "\n",
    "* must be 4 digits\n",
    "* must be `string` type"
   ]
  },
  {
   "cell_type": "code",
   "execution_count": 1,
   "metadata": {},
   "outputs": [],
   "source": [
    "year = '2010' # Only thing that needs to be changed"
   ]
  },
  {
   "cell_type": "markdown",
   "metadata": {},
   "source": [
    "#\n",
    "<div class=\"alert alert-block alert-warning\"  style=\"background-color: #be5bf0; color: black;\">  \n",
    "  <h1>Imports</h1>\n",
    "</div>"
   ]
  },
  {
   "cell_type": "code",
   "execution_count": 2,
   "metadata": {},
   "outputs": [],
   "source": [
    "# Web scraping stuff\n",
    "import requests\n",
    "from bs4 import BeautifulSoup\n",
    "\n",
    "from selenium import webdriver\n",
    "from selenium.webdriver.common.by import By\n",
    "from selenium.webdriver.chrome.service import Service\n",
    "from selenium.webdriver.common.action_chains import ActionChains\n",
    "from selenium.webdriver.common.keys import Keys\n",
    "from webdriver_manager.chrome import ChromeDriverManager\n",
    "\n",
    "# Stuff to look at dataframes and numbers \n",
    "import pandas as pd\n",
    "import numpy as np\n",
    "\n",
    "# Random shit \n",
    "import os\n",
    "from tqdm import tqdm\n",
    "import time \n"
   ]
  },
  {
   "cell_type": "markdown",
   "metadata": {},
   "source": [
    "#\n",
    "<div class=\"alert alert-block alert-warning\"  style=\"background-color: #be5bf0; color: black;\">  \n",
    "  <h1>Scrape Data</h1>\n",
    "</div>"
   ]
  },
  {
   "cell_type": "code",
   "execution_count": 3,
   "metadata": {},
   "outputs": [
    {
     "name": "stdout",
     "output_type": "stream",
     "text": [
      "Downloading files for 2010...\n"
     ]
    },
    {
     "name": "stderr",
     "output_type": "stream",
     "text": [
      "Progress: 100%|██████████| 3/3 [00:31<00:00, 10.57s/file]\n"
     ]
    },
    {
     "name": "stdout",
     "output_type": "stream",
     "text": [
      "Done!!! 😭\n"
     ]
    }
   ],
   "source": [
    "# Downloownload directory\n",
    "current_dir = os.getcwd()  \n",
    "download_dir = os.path.join(current_dir, year) \n",
    "\n",
    "# URLs to click \n",
    "urls = {\n",
    "    \"Codebook Files\": f\"https://www.ahrq.gov/sites/default/files/wysiwyg/sdoh/SDOH_{year}_Codebook_1_0.xlsx\",\n",
    "    \"County Data\": f\"https://www.ahrq.gov/sites/default/files/wysiwyg/sdoh/SDOH_{year}_COUNTY_1_0.xlsx\",\n",
    "    \"Census Tract Data\": f\"https://www.ahrq.gov/downloads/sdoh/sdoh_{year}_tract_1_0.xlsx\"\n",
    "}\n",
    "\n",
    "# Selenium stuff\n",
    "chrome_options = webdriver.ChromeOptions()\n",
    "prefs = {\"download.default_directory\": download_dir,\n",
    "         \"download.prompt_for_download\": False,\n",
    "         \"directory_upgrade\": True}\n",
    "chrome_options.add_experimental_option(\"prefs\", prefs)\n",
    "service = Service(ChromeDriverManager().install())\n",
    "driver = webdriver.Chrome(service=service, options=chrome_options)\n",
    "\n",
    "driver.get(\"about:blank\")\n",
    "\n",
    "# Click each link\n",
    "print(f\"Downloading files for {year}...\")\n",
    "for category, url in tqdm(urls.items(), desc=\"Progress\", unit=\"file\"):\n",
    "    driver.get(url) \n",
    "    time.sleep(10) # Might need to adjust \n",
    "\n",
    "time.sleep(15) # Might need to adjust ask group about this\n",
    "driver.quit()\n",
    "\n",
    "print(f\"Done!!! 😭\")"
   ]
  },
  {
   "cell_type": "code",
   "execution_count": null,
   "metadata": {},
   "outputs": [],
   "source": []
  }
 ],
 "metadata": {
  "kernelspec": {
   "display_name": "base",
   "language": "python",
   "name": "python3"
  },
  "language_info": {
   "codemirror_mode": {
    "name": "ipython",
    "version": 3
   },
   "file_extension": ".py",
   "mimetype": "text/x-python",
   "name": "python",
   "nbconvert_exporter": "python",
   "pygments_lexer": "ipython3",
   "version": "3.12.2"
  }
 },
 "nbformat": 4,
 "nbformat_minor": 2
}
